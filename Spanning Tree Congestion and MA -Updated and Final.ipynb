{
 "cells": [
  {
   "cell_type": "markdown",
   "id": "d0ce4c3f",
   "metadata": {},
   "source": [
    "# Spanning Tree Congestion using Memetic Algorithms"
   ]
  },
  {
   "cell_type": "markdown",
   "id": "5b559555",
   "metadata": {},
   "source": [
    "#### Initialize classes or header files"
   ]
  },
  {
   "cell_type": "code",
   "execution_count": null,
   "id": "73c2607c",
   "metadata": {},
   "outputs": [],
   "source": [
    "import random\n",
    "import networkx as nx\n",
    "import itertools"
   ]
  },
  {
   "cell_type": "markdown",
   "id": "06de6b6d",
   "metadata": {},
   "source": [
    "#### Check if given graph is Spanning Tree or Not"
   ]
  },
  {
   "cell_type": "code",
   "execution_count": null,
   "id": "f338a018",
   "metadata": {},
   "outputs": [],
   "source": [
    "def spanning_tree_checker(original,G):\n",
    "    if(nx.is_tree(G)==True):\n",
    "        if len(list(G.nodes()))==len(list(original.nodes())):\n",
    "            if nx.is_connected(G)==True:\n",
    "                return True\n",
    "            else:\n",
    "                return False\n",
    "        else:\n",
    "            return False\n",
    "    else:\n",
    "        return False"
   ]
  },
  {
   "cell_type": "markdown",
   "id": "efe9ffa7",
   "metadata": {},
   "source": [
    "#### Return longest path list betweeen 2 vertices u,v in a graph G"
   ]
  },
  {
   "cell_type": "code",
   "execution_count": null,
   "id": "51b0bfdd",
   "metadata": {},
   "outputs": [],
   "source": [
    "def return_longest_paths(G,u,v):\n",
    "    longest_path_list=[]\n",
    "    longest_length=0\n",
    "    all_simple_paths=list(nx.all_simple_paths(G,u,v))\n",
    "    for path in all_simple_paths:\n",
    "        if len(path)>=longest_length:\n",
    "            longest_length=len(path)\n",
    "    for path in all_simple_paths:\n",
    "        if len(path)==longest_length:\n",
    "            longest_path_list.append(path)\n",
    "    return longest_path_list\n",
    "\n",
    "    \n",
    "    "
   ]
  },
  {
   "cell_type": "markdown",
   "id": "b41df02c",
   "metadata": {},
   "source": [
    "#### Check if a particular edge participates/present in a longest path"
   ]
  },
  {
   "cell_type": "code",
   "execution_count": null,
   "id": "4990e498",
   "metadata": {},
   "outputs": [],
   "source": [
    "def edge_vs_path_checker(path_list,edge):\n",
    "    length_of_path=len(path_list[0])\n",
    "    for path in path_list:\n",
    "        for i in range(length_of_path-1):\n",
    "            if (edge[0]==path[i] and edge[1]==path[i+1]) or (edge[0]==path[i+1] and edge[1]==path[i]):\n",
    "                return True\n",
    "    return False\n"
   ]
  },
  {
   "cell_type": "markdown",
   "id": "cf35fd9c",
   "metadata": {},
   "source": [
    "#### Find the tree congestion by the maximum edge congestion over all edges in tree T\n"
   ]
  },
  {
   "cell_type": "code",
   "execution_count": null,
   "id": "4b612b1d",
   "metadata": {},
   "outputs": [],
   "source": [
    "def return_max_edge_congestion_of_tree(G,T):\n",
    "    max_edge_congestion=0\n",
    "    present_edge_congestion=0\n",
    "    current_index=0\n",
    "    #print(T.edges())\n",
    "    for edge in T.edges():\n",
    "        current_index=0\n",
    "        for G_edge in G.edges():\n",
    "        #present_edge_congestion=0\n",
    "#         for u in list(G.nodes()):\n",
    "#             for v in list(G.nodes())[current_index+1:]:\n",
    "            u=G_edge[0]\n",
    "            v=G_edge[1]\n",
    "            if u!=v:\n",
    "                longest_path_list=return_longest_paths(T,u,v).copy()\n",
    "                #print(longest_path_list,u,v)\n",
    "                if(edge_vs_path_checker(longest_path_list.copy(),edge)==True):\n",
    "                    #print(edge,u,v,\"TRUE\")\n",
    "                    present_edge_congestion+=1\n",
    "                        \n",
    "            current_index+=1\n",
    "        #print(present_edge_congestion,edge)\n",
    "#         if present_edge_congestion>max_edge_congestion:\n",
    "        if present_edge_congestion>max_edge_congestion:\n",
    "            max_edge_congestion+=present_edge_congestion\n",
    "    \n",
    "        present_edge_congestion=0\n",
    "\n",
    "        #max_edge_congestion+=present_edge_congestion\n",
    "    \n",
    "    return max_edge_congestion"
   ]
  },
  {
   "cell_type": "markdown",
   "id": "6fe19eea",
   "metadata": {},
   "source": [
    "#### Graph Connector- Connect 2 graphs given a connecting edge"
   ]
  },
  {
   "cell_type": "code",
   "execution_count": null,
   "id": "285cdaa9",
   "metadata": {},
   "outputs": [],
   "source": [
    "def connect_graph(G,Gprime,edge_connect):\n",
    "    Gnew=nx.Graph()\n",
    "    for node in G.nodes():\n",
    "        Gnew.add_node(node)\n",
    "    for node in Gprime.nodes():\n",
    "        Gnew.add_node(node)\n",
    "    for edge in G.edges():\n",
    "        Gnew.add_edge(edge[0],edge[1])\n",
    "    for edge in Gprime.edges():\n",
    "        Gnew.add_edge(edge[0],edge[1])\n",
    "    Gnew.add_edge(edge_connect[0],edge_connect[1])\n",
    "    return Gnew.copy()"
   ]
  },
  {
   "cell_type": "markdown",
   "id": "dccb160b",
   "metadata": {},
   "source": [
    "#### Find a connecting edge between 2 graphs G1 and G2 such that\n",
    "1. The edge found is a valid present edge in original graph original\n",
    "2. Edge should not be within the graph G1 and similarly within G2\n",
    "3. Edge should not be between prohibited nodes, it can be from a prohibited node to a non-prohibited node, but not allowed when an edge is between nodes that are both prohibited\n",
    "\n",
    "2,3 Ensures edge found does not result in a cycles"
   ]
  },
  {
   "cell_type": "code",
   "execution_count": null,
   "id": "999ce6c4",
   "metadata": {},
   "outputs": [],
   "source": [
    "def find_connector_edge(original,G1,G2,prohibited_nodes=[]):\n",
    "    all_edge_combinations=[]\n",
    "    for node1 in G1.nodes():\n",
    "        for node2 in G2.nodes():\n",
    "            if node1 not in prohibited_nodes or node2 not in prohibited_nodes:\n",
    "                if ((tuple((node1,node2)) not in nx.complete_graph(G1.nodes()).edges()) or (tuple((node2,node1)) not in nx.complete_graph(G1.nodes()).edges())) and ((tuple((node1,node2)) not in nx.complete_graph(G2.nodes()).edges()) or (tuple((node2,node1)) not in nx.complete_graph(G2.nodes()).edges())):\n",
    "                    all_edge_combinations.append(tuple((node1,node2)))\n",
    "                    all_edge_combinations.append(tuple((node2,node1)))\n",
    "    #print(\"ALL EDGE COMBINATIONS\",all_edge_combinations)\n",
    "    original_edge_list=list(original.edges())\n",
    "    connection_successful_edge_list=[]\n",
    "    for combination in all_edge_combinations:\n",
    "        if combination in original_edge_list:\n",
    "            connection_successful_edge_list.append(combination)\n",
    "    if len(connection_successful_edge_list)==0:\n",
    "        return -1\n",
    "    else:\n",
    "        rand_num=rd.randint(0,len(connection_successful_edge_list)-1)\n",
    "        #print('hello',connection_successful_edge_list[rand_num])\n",
    "        return connection_successful_edge_list[rand_num]\n",
    "\n",
    "    \n"
   ]
  },
  {
   "cell_type": "markdown",
   "id": "414d12d3",
   "metadata": {},
   "source": [
    "### Component Connector Function"
   ]
  },
  {
   "cell_type": "markdown",
   "id": "b7bb31f5",
   "metadata": {},
   "source": [
    "#### \n",
    "The component connector takes the inputs graph G, and list of components(maybe even 1 single component or set of disconnected components) and does the below\n",
    "1. if the no. of components =1, it means its fully connected and hence may just contain cycles\n",
    "2.hence we return a valid spanning tree configuration of the passed component\n",
    "3. else if the no of components>1\n",
    "4. for each component in components:\n",
    "5.        spanning_tree(component)\n",
    "6. for each combination of component_list:\n",
    "7.    connect spanning trees\n",
    "8. return the new connected graph"
   ]
  },
  {
   "cell_type": "code",
   "execution_count": null,
   "id": "23de1acb",
   "metadata": {},
   "outputs": [],
   "source": [
    "import random as rd\n",
    "import itertools\n",
    "def component_connector(original,components,graph_holder):\n",
    "    if len(components)>1 :\n",
    "        tree=[]\n",
    "        spanning_tree_list=[]\n",
    "        for component in components:\n",
    "            if len(component.nodes())>2:\n",
    "                all_spanning_trees_of_component=list(nx.SpanningTreeIterator(component))\n",
    "                random_num=rd.randint(0,len(all_spanning_trees_of_component)-1)\n",
    "                current_spanning_tree=all_spanning_trees_of_component[random_num]\n",
    "                spanning_tree_list.append(current_spanning_tree)\n",
    "                #nx.draw(current_spanning_tree)\n",
    "            else:\n",
    "                spanning_tree_list.append(component)\n",
    "        #A Spanning tree of each component obtained\n",
    "        new_connected_graph=nx.Graph()\n",
    "        #print(len(spanning_tree_list))\n",
    "        connected_tree=nx.Graph()\n",
    "        original_edge_list=list(original.edges())\n",
    "        spanning_tree_connector_status=[False]*len(spanning_tree_list)\n",
    "        combination_list=list(itertools.combinations(list(range(len(spanning_tree_list))),2))\n",
    "        #print(list(combination_list))\n",
    "        while spanning_tree_connector_status!=[True]*len(spanning_tree_list):\n",
    "            \n",
    "            #print(spanning_tree_connector_status)\n",
    "            combination=combination_list[random.randint(0,len(combination_list)-1)]\n",
    "            #print(\"COMBINATION!!!!!!!!!!!!!!!!!!!\",combination)\n",
    "            #print(\"STATUS !!!!\",spanning_tree_connector_status[combination[0]],spanning_tree_connector_status[combination[1]])\n",
    "            if spanning_tree_connector_status[combination[0]]==False or spanning_tree_connector_status[combination[1]]==False:\n",
    "                T1=spanning_tree_list[combination[0]]\n",
    "                T2=spanning_tree_list[combination[1]]\n",
    "                result=find_connector_edge(original,T1,T2)\n",
    "                #print(result,\" TREE CONNECTING EDGE\")\n",
    "                if result!=-1:#we have found a connecting edge b/w T1 and T2, now we need to find a connecting edge b/w new connected_graph and T1T2 combination\n",
    "                    connected_tree=connect_graph(T1.copy(),T2.copy(),result)\n",
    "                    tree.append(connected_tree)\n",
    "                    if len(list(new_connected_graph.nodes()))==0:\n",
    "                        #print(\"OH OH\")\n",
    "                        new_connected_graph=connected_tree.copy()\n",
    "                        spanning_tree_connector_status[combination[0]]=True\n",
    "                        spanning_tree_connector_status[combination[1]]=True\n",
    "                        #print(\"I AM BREAKING\")\n",
    "                        #break\n",
    "                    else:\n",
    "                        prohibited_nodes=set(new_connected_graph.nodes()).intersection(set(connected_tree.nodes()))\n",
    "                        #print(\"PROHIBITED\",new_connected_graph.nodes(),set(connected_tree.nodes()))\n",
    "                        result_graph=find_connector_edge(original,new_connected_graph,connected_tree,prohibited_nodes)\n",
    "                        if result[0] in new_connected_graph.nodes() or result[1] in new_connected_graph.nodes():\n",
    "\n",
    "                            new_connected_graph=connect_graph(new_connected_graph.copy(),connected_tree,result).copy()\n",
    "                            spanning_tree_connector_status[combination[0]]=True\n",
    "                            spanning_tree_connector_status[combination[1]]=True\n",
    "                            #print(\"I AM BREAKING\")\n",
    "                            #break\n",
    "\n",
    "                        elif result_graph!=-1:\n",
    "                            tree.append(tuple((new_connected_graph,\"new c\")))\n",
    "                            #print(\"RESULT GRAPH\",result_graph)\n",
    "                            #prohibited_nodes=set(new_connected_graph.nodes()).intersection(set(connected_tree.nodes()))\n",
    "                            #print(new_connected_graph.nodes(),connected_tree.nodes(),prohibited_nodes)\n",
    "                            new_connected_graph=connect_graph(new_connected_graph.copy(),connected_tree,result_graph).copy()\n",
    "                            spanning_tree_connector_status[combination[0]]=True\n",
    "                            spanning_tree_connector_status[combination[1]]=True\n",
    "                        #else:\n",
    "                            #print('I AM UNABLE TO FIND A CORRECT EDGE')\n",
    "            #print(\"OH MY GOD!!!!!######################\",new_connected_graph.nodes())\n",
    "            if spanning_tree_connector_status==[True]*len(spanning_tree_list):\n",
    "                if spanning_tree_checker(G,new_connected_graph)==False:\n",
    "                    print /+\"\"\n",
    "                graph_holder.append(new_connected_graph.copy())\n",
    "                return new_connected_graph\n",
    "        if spanning_tree_checker(G,new_connected_graph)==False:\n",
    "            print /+\"\"\n",
    "        graph_holder.append(new_connected_graph.copy())\n",
    "        return new_connected_graph\n",
    "    else:\n",
    "        #print(\"YEAH\")\n",
    "        stlist=list(nx.SpanningTreeIterator(components[0]))\n",
    "        return stlist[random.randint(0,len(stlist)-1)]\n"
   ]
  },
  {
   "cell_type": "markdown",
   "id": "07af3349",
   "metadata": {},
   "source": [
    "## Initialize a graph G"
   ]
  },
  {
   "cell_type": "code",
   "execution_count": null,
   "id": "304f44d9",
   "metadata": {},
   "outputs": [],
   "source": [
    "import networkx as nx\n",
    "G=nx.Graph()\n",
    "for i in range(0,7):\n",
    "    G.add_node(i)\n",
    "G.add_edge(1,6)\n",
    "G.add_edge(1,2)\n",
    "G.add_edge(1,4)\n",
    "G.add_edge(1,0)\n",
    "\n",
    "G.add_edge(2,6)\n",
    "G.add_edge(2,5)\n",
    "G.add_edge(2,3)\n",
    "\n",
    "G.add_edge(3,6)\n",
    "G.add_edge(3,4)\n",
    "\n",
    "G.add_edge(4,5)\n",
    "\n",
    "G.add_edge(5,0)\n",
    "\n",
    "#G.add_edge(0,6)"
   ]
  },
  {
   "cell_type": "code",
   "execution_count": null,
   "id": "14e6b520",
   "metadata": {},
   "outputs": [],
   "source": [
    "nx.draw(G)"
   ]
  },
  {
   "cell_type": "markdown",
   "id": "6c015361",
   "metadata": {},
   "source": [
    "#### Obtain count to edge mapper and edge to count mapper of graph G"
   ]
  },
  {
   "cell_type": "code",
   "execution_count": null,
   "id": "c55adc0c",
   "metadata": {},
   "outputs": [],
   "source": [
    "count_to_edge_mapper={}\n",
    "edge_to_count_mapper={}\n",
    "count=0\n",
    "for edge in G.edges():\n",
    "    count_to_edge_mapper[count]=edge\n",
    "    count+=1\n",
    "count=0\n",
    "for edge in G.edges():\n",
    "    edge_to_count_mapper[edge]=count\n",
    "    count+=1"
   ]
  },
  {
   "cell_type": "markdown",
   "id": "718c7d11",
   "metadata": {},
   "source": [
    "#### Create a graph given the node list and a member of the population"
   ]
  },
  {
   "cell_type": "code",
   "execution_count": null,
   "id": "a45809f8",
   "metadata": {},
   "outputs": [],
   "source": [
    "def graph_creator(node_list,mem):\n",
    "    Gprime=nx.Graph()\n",
    "    for node in node_list:\n",
    "        Gprime.add_node(node)\n",
    "    edge_list=[]\n",
    "    for i in range(len(mem)):\n",
    "        if mem[i]==1:\n",
    "            edge_list.append(count_to_edge_mapper[i])\n",
    "    for edge in edge_list:\n",
    "        Gprime.add_edge(edge[0],edge[1])\n",
    "    return Gprime.copy()\n"
   ]
  },
  {
   "cell_type": "markdown",
   "id": "62c9850c",
   "metadata": {},
   "source": [
    "#### Create a member of the population given the original graph G and a tree T"
   ]
  },
  {
   "cell_type": "code",
   "execution_count": null,
   "id": "4fc64b50",
   "metadata": {},
   "outputs": [],
   "source": [
    "def edge_creator(Gprime,T):\n",
    "    mem=[]\n",
    "    for i in range(len(list(Gprime.edges()))):\n",
    "        mem.append(0)\n",
    "    for edge in T.edges():\n",
    "        #print(edge)\n",
    "        if edge not in edge_to_count_mapper.keys():\n",
    "            mem[edge_to_count_mapper[tuple((edge[1],edge[0]))]]=1\n",
    "        else:\n",
    "            mem[edge_to_count_mapper[edge]]=1\n",
    "        #print(mem)\n",
    "    return mem.copy()"
   ]
  },
  {
   "cell_type": "markdown",
   "id": "3774dfcc",
   "metadata": {},
   "source": [
    "#### Some clarifications\n",
    "1. A member of the population is basically an array or a list with zeroes and ones\n",
    "2. Zero represents the particular edge is not present in tree T/Graph X\n",
    "3. One represents the particular edge is present in tree T/Graph X\n",
    "4. Eg: Assume original graph G has 5 edges (0,1),(1,2),(2,3),(4,1),(2,5)\n",
    "5. Using the edge to count mapper we get\n",
    "6. count_to_edge_mapper={0:(0,1), 1:(1,2), 2:(2,3), 3:(4,1), 4:(2,5)}\n",
    "7. edge_to_count_mapper={(0,1):0, (1,2):1, (2,3):2, (4,1):3, (2,5):4}\n",
    "8. Hence, if we wish to denote graph G as a member it would look like\n",
    "9. Member=[1,1,1,1,1]\n",
    "10. A graph Gprime where (1,2) and (2,5) are absent in member form below:\n",
    "11. [1,0,1,1,0]"
   ]
  },
  {
   "cell_type": "markdown",
   "id": "c699673d",
   "metadata": {},
   "source": [
    "#### Memetic algorithm steps and procedure"
   ]
  },
  {
   "cell_type": "markdown",
   "id": "57d24c47",
   "metadata": {},
   "source": [
    "1. Crossover(2 point crossover)\n",
    "2. Mutation(check if random number<Prob(mutation)[0.6 fixed], if so mutate(1->0 or 0->1]\n",
    "3. Perform repair(find all components of the member, pass it to component_connector, and hence replace the illegal member with a legal spanning tree member)\n",
    "4. Torunament selection, choose 2 individual from parent and 2 individual from child, randomly perform a tournament b/w the 4 and initialize the winner as the next member. Do this until there are new generation is filled\n",
    "\n",
    "5. The objective here is to minimize(spanning tree congestion)"
   ]
  },
  {
   "cell_type": "code",
   "execution_count": null,
   "id": "82e9f968",
   "metadata": {},
   "outputs": [],
   "source": [
    "population=[]\n",
    "for i in range(10):\n",
    "    population.append([])\n",
    "population_checker=[False]*len(population)\n",
    "graph_holder=[]\n",
    "\n",
    "i=0\n",
    "for T in list(nx.SpanningTreeIterator(G))[0:10]:\n",
    "    population[i]=edge_creator(G.copy(),T.copy()).copy()\n",
    "    i=i+1\n",
    "i=0\n",
    "best_score=100000\n",
    "# for member in population:\n",
    "#     temp=graph_creator(G.nodes(),member)\n",
    "#     print(spanning_tree_checker(G,temp))\n",
    "child_population=[]\n",
    "for i in range(len(population)):\n",
    "    child_population.append([])\n",
    "total_gen=5\n",
    "g=0\n",
    "graph_checker=[]\n",
    "\n",
    "pmutation=0.6\n",
    "\n",
    "population_tracker=[]\n",
    "for gen in range(total_gen+2):\n",
    "    population_tracker.append([])\n",
    "for i in range(len(population)):\n",
    "    population_tracker[0].append(population[i].copy())\n",
    "\n",
    "#print(\"***********************************************************************HELLO\")\n",
    "#print(population_tracker)\n",
    "# for member in population_tracker[0]:\n",
    "#     temp=graph_creator(G.nodes(),member)\n",
    "#     print(spanning_tree_checker(G,temp))\n",
    "\n",
    "while g<50:\n",
    "    #1.Crossover\n",
    "    while population_checker!=[True]*len(population):\n",
    "        p1=random.randint(0,len(population)-1)\n",
    "        p2=random.randint(0,len(population)-1)\n",
    "        if population_checker[p1]==False and population_checker[p2]==False:\n",
    "            #random point crossover\n",
    "            rand_num1=random.randint(0,len(population[p1])-1)\n",
    "            rand_num2=random.randint(0,len(population[p1])-1)\n",
    "            max_index=max(rand_num1,rand_num2)\n",
    "            min_index=min(rand_num1,rand_num2)\n",
    "            if max_index==min_index:\n",
    "                #No crossover\n",
    "                child_population[p1]=population[p1].copy()\n",
    "                child_population[p2]=population[p2].copy()\n",
    "                population_checker[p1]=True\n",
    "                population_checker[p2]=True\n",
    "            else:\n",
    "                #Perform Crossover\n",
    "                #print(\"PREFORMING CROSSOVER\")\n",
    "                p1new=[]\n",
    "                p2new=[]\n",
    "                for f in range(0,min_index):\n",
    "                    p1new.append(population[p2][f])\n",
    "                for f in range(min_index,max_index):\n",
    "                    p1new.append(population[p1][f])\n",
    "                for f in range(max_index,len(population[p2])):\n",
    "                    p1new.append(population[p2][f])\n",
    "                #print(\"CROSSOVERACTION\",p1new)\n",
    "                for f in range(0,min_index):\n",
    "                    p2new.append(population[p1][f])\n",
    "                for f in range(min_index,max_index):\n",
    "                    p2new.append(population[p2][f])\n",
    "                for f in range(max_index,len(population[p1])):\n",
    "                    p2new.append(population[p1][f])\n",
    "                \n",
    "                child_population[p1]=p1new.copy()\n",
    "                child_population[p2]=p2new.copy()\n",
    "                \n",
    "                population_checker[p1]=True\n",
    "                population_checker[p2]=True\n",
    "\n",
    "    #Crossover Finished\n",
    "    #2.Mutation\n",
    "#     for mem in population:\n",
    "#         for i in range(len(mem)):\n",
    "#             if random.random()<pmutation:\n",
    "#                 if mem[i]==0:\n",
    "#                     mem[i]=1\n",
    "#                 else:\n",
    "#                     mem[i]=0\n",
    "    for i in range(len(child_population)):\n",
    "        for j in range(len(child_population[i])):\n",
    "            if random.random()<pmutation:\n",
    "                if child_population[i][j]==0:\n",
    "                    child_population[i][j]=1\n",
    "                else:\n",
    "                    child_population[i][j]=0\n",
    "\n",
    "    #Mutation completed\n",
    "    #3.Repair starts\n",
    "#     for r in range(len(population)):\n",
    "#         temp_graph=graph_creator(G.nodes(),population[r].copy()).copy()\n",
    "#         correct_temp_graph=nx.Graph()\n",
    "#         if spanning_tree_checker(G,temp_graph)==False:\n",
    "#             graph_checker.append(temp_graph)\n",
    "#             S = [temp_graph.subgraph(c).copy() for c in nx.connected_components(temp_graph.copy())]\n",
    "#             #print(S)\n",
    "#             correct_temp_graph=component_connector(G,S,graph_holder).copy()\n",
    "#             population[r]=edge_creator(G.copy(),correct_temp_graph.copy()).copy()    \n",
    "#             graph_checker.append(correct_temp_graph)\n",
    "    for r in range(len(child_population)):\n",
    "        temp_graph=graph_creator(G.nodes(),child_population[r].copy()).copy()\n",
    "        correct_temp_graph=nx.Graph()\n",
    "        if spanning_tree_checker(G,temp_graph)==False:\n",
    "            graph_checker.append(temp_graph)\n",
    "            S = [temp_graph.subgraph(c).copy() for c in nx.connected_components(temp_graph.copy())]\n",
    "            correct_temp_graph=component_connector(G.copy(),S.copy(),graph_holder).copy()\n",
    "            child_population[r]=edge_creator(G.copy(),correct_temp_graph.copy()).copy()\n",
    "            graph_checker.append(correct_temp_graph)\n",
    "    #Repair Over\n",
    "#     for mem in population:\n",
    "#         temp_graph=graph_creator(G.nodes(),mem.copy()).copy()\n",
    "#         print(spanning_tree_checker(G,temp_graph))\n",
    "#     for mem in child_population:\n",
    "#         temp_graph=graph_creator(G.nodes(),mem.copy()).copy()\n",
    "#         print(spanning_tree_checker(G,temp_graph))\n",
    "    #Score Calculation\n",
    "    parent_score={}\n",
    "    child_score={}\n",
    "    for k in range(len(population)):\n",
    "        temp_tree=graph_creator(G.nodes(),population[k].copy()).copy()\n",
    "        parent_score[k]=return_max_edge_congestion_of_tree(G,temp_tree)\n",
    "    for k in range(len(child_population)):\n",
    "        temp_tree=graph_creator(G.nodes(),child_population[k].copy()).copy()\n",
    "        child_score[k]=return_max_edge_congestion_of_tree(G,temp_tree)\n",
    "        \n",
    "    #4.Tournament Selection\n",
    "    new_population=[]\n",
    "    for i in range(len(population)):\n",
    "        new_population.append([])\n",
    "    for nth_winner in range(len(population)):\n",
    "        parent1=random.randint(0,len(population)-1)\n",
    "        parent2=random.randint(0,len(population)-1)\n",
    "        child1=random.randint(0,len(population)-1)\n",
    "        child2=random.randint(0,len(population)-1)\n",
    "        winner_score=min(parent_score[parent1],parent_score[parent2],child_score[child1],child_score[child2])\n",
    "        if winner_score<best_score:\n",
    "            best_score=winner_score\n",
    "        if winner_score==parent_score[parent1]:\n",
    "            new_population[nth_winner]=population[parent1].copy()\n",
    "        else:\n",
    "            if winner_score==parent_score[parent2]:\n",
    "                new_population[nth_winner]=population[parent2].copy()\n",
    "            else:\n",
    "                if winner_score==child_score[child1]:\n",
    "                    new_population[nth_winner]=child_population[child1].copy()\n",
    "                else:\n",
    "                    new_population[nth_winner]=child_population[child2].copy()\n",
    "    \n",
    "    \n",
    "    #Increment generation\n",
    "    g=g+1\n",
    "    #Clear Scores\n",
    "    parent_score=[]\n",
    "    child_score=[]\n",
    "    #Copy new generation to population\n",
    "    for new_pop in range(len(population)):\n",
    "        population[new_pop]=new_population[new_pop].copy()\n",
    "    \n",
    "    new_population=[]\n",
    "    for i in range(len(population)):\n",
    "        new_population.append([])\n",
    "    population_tracker.append([])\n",
    "    for pop in range(len(population)):\n",
    "        population_tracker[g].append(population[pop])\n",
    "    #population_tracker.append(population.copy())\n",
    "    population_checker=[False]*len(population)\n",
    "    child_population=[]\n",
    "    for i in range(len(population)):\n",
    "        child_population.append([])\n",
    "#     for m in population:\n",
    "#         #print(spanning_tree_checker(G,graph_creator(G.nodes(),m.copy())))\n",
    "        "
   ]
  },
  {
   "cell_type": "code",
   "execution_count": null,
   "id": "9defcfe4",
   "metadata": {},
   "outputs": [],
   "source": [
    "nx.draw(graph_creator(G.nodes(),population_tracker[5][5]))"
   ]
  },
  {
   "cell_type": "code",
   "execution_count": null,
   "id": "842e6e0e",
   "metadata": {},
   "outputs": [],
   "source": [
    "import matplotlib.pyplot as plt"
   ]
  },
  {
   "cell_type": "code",
   "execution_count": null,
   "id": "5700d41c",
   "metadata": {},
   "outputs": [],
   "source": [
    "for i in range(0,len(population_tracker)):\n",
    "    for j in range(0,len(population_tracker[i])):\n",
    "        plt.figure(i*10+j+1)\n",
    "        nx.draw(graph_creator(G.nodes(),population_tracker[i][j]))"
   ]
  },
  {
   "cell_type": "code",
   "execution_count": null,
   "id": "10cd333f",
   "metadata": {},
   "outputs": [],
   "source": [
    "winner_score"
   ]
  },
  {
   "cell_type": "code",
   "execution_count": null,
   "id": "c2faece4",
   "metadata": {},
   "outputs": [],
   "source": [
    "a=[]\n",
    "for span in nx.SpanningTreeIterator(G):\n",
    "    a.append(return_max_edge_congestion_of_tree(G,span))\n",
    "for i in range(len(a)):\n",
    "    if a[i]==4:\n",
    "        print(i)"
   ]
  },
  {
   "cell_type": "code",
   "execution_count": null,
   "id": "9620ec93",
   "metadata": {},
   "outputs": [],
   "source": [
    "min(a)"
   ]
  },
  {
   "cell_type": "code",
   "execution_count": null,
   "id": "130384c7",
   "metadata": {},
   "outputs": [],
   "source": [
    "best_score"
   ]
  },
  {
   "cell_type": "code",
   "execution_count": null,
   "id": "be531687",
   "metadata": {},
   "outputs": [],
   "source": []
  },
  {
   "cell_type": "code",
   "execution_count": null,
   "id": "868111e7",
   "metadata": {},
   "outputs": [],
   "source": []
  },
  {
   "cell_type": "code",
   "execution_count": null,
   "id": "38ae9b5d",
   "metadata": {},
   "outputs": [],
   "source": []
  },
  {
   "cell_type": "code",
   "execution_count": null,
   "id": "f7527cb9",
   "metadata": {},
   "outputs": [],
   "source": []
  },
  {
   "cell_type": "code",
   "execution_count": null,
   "id": "7f74b7fc",
   "metadata": {},
   "outputs": [],
   "source": []
  },
  {
   "cell_type": "code",
   "execution_count": null,
   "id": "62bcb47c",
   "metadata": {},
   "outputs": [],
   "source": []
  },
  {
   "cell_type": "code",
   "execution_count": null,
   "id": "7a90db04",
   "metadata": {},
   "outputs": [],
   "source": []
  },
  {
   "cell_type": "code",
   "execution_count": null,
   "id": "dff18acd",
   "metadata": {},
   "outputs": [],
   "source": []
  },
  {
   "cell_type": "code",
   "execution_count": null,
   "id": "4262611a",
   "metadata": {},
   "outputs": [],
   "source": []
  },
  {
   "cell_type": "code",
   "execution_count": null,
   "id": "f2d5b8f4",
   "metadata": {},
   "outputs": [],
   "source": []
  },
  {
   "cell_type": "code",
   "execution_count": null,
   "id": "059dcaff",
   "metadata": {},
   "outputs": [],
   "source": []
  },
  {
   "cell_type": "code",
   "execution_count": null,
   "id": "d24356ac",
   "metadata": {},
   "outputs": [],
   "source": []
  },
  {
   "cell_type": "code",
   "execution_count": null,
   "id": "e02786f3",
   "metadata": {},
   "outputs": [],
   "source": []
  },
  {
   "cell_type": "code",
   "execution_count": null,
   "id": "d22cb27e",
   "metadata": {},
   "outputs": [],
   "source": []
  },
  {
   "cell_type": "code",
   "execution_count": null,
   "id": "f0a2ccf8",
   "metadata": {},
   "outputs": [],
   "source": []
  },
  {
   "cell_type": "code",
   "execution_count": null,
   "id": "5393b797",
   "metadata": {},
   "outputs": [],
   "source": []
  },
  {
   "cell_type": "code",
   "execution_count": null,
   "id": "3a12e200",
   "metadata": {},
   "outputs": [],
   "source": []
  },
  {
   "cell_type": "code",
   "execution_count": null,
   "id": "dd2fec8f",
   "metadata": {},
   "outputs": [],
   "source": []
  },
  {
   "cell_type": "code",
   "execution_count": null,
   "id": "ab90baeb",
   "metadata": {},
   "outputs": [],
   "source": []
  },
  {
   "cell_type": "code",
   "execution_count": null,
   "id": "61e4c931",
   "metadata": {},
   "outputs": [],
   "source": []
  },
  {
   "cell_type": "code",
   "execution_count": null,
   "id": "20d45157",
   "metadata": {},
   "outputs": [],
   "source": []
  },
  {
   "cell_type": "code",
   "execution_count": null,
   "id": "45397d98",
   "metadata": {},
   "outputs": [],
   "source": []
  },
  {
   "cell_type": "code",
   "execution_count": null,
   "id": "25ffd0a3",
   "metadata": {},
   "outputs": [],
   "source": []
  },
  {
   "cell_type": "code",
   "execution_count": null,
   "id": "d1c51bd0",
   "metadata": {},
   "outputs": [],
   "source": []
  },
  {
   "cell_type": "code",
   "execution_count": null,
   "id": "0cb3e596",
   "metadata": {},
   "outputs": [],
   "source": []
  },
  {
   "cell_type": "code",
   "execution_count": null,
   "id": "df1023d3",
   "metadata": {},
   "outputs": [],
   "source": []
  },
  {
   "cell_type": "code",
   "execution_count": null,
   "id": "34ef43c7",
   "metadata": {},
   "outputs": [],
   "source": []
  },
  {
   "cell_type": "code",
   "execution_count": null,
   "id": "f58ee27a",
   "metadata": {},
   "outputs": [],
   "source": []
  }
 ],
 "metadata": {
  "kernelspec": {
   "display_name": "Python 3 (ipykernel)",
   "language": "python",
   "name": "python3"
  },
  "language_info": {
   "codemirror_mode": {
    "name": "ipython",
    "version": 3
   },
   "file_extension": ".py",
   "mimetype": "text/x-python",
   "name": "python",
   "nbconvert_exporter": "python",
   "pygments_lexer": "ipython3",
   "version": "3.11.3"
  }
 },
 "nbformat": 4,
 "nbformat_minor": 5
}
